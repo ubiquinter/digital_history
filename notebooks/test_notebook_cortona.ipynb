{
 "cells": [
  {
   "cell_type": "code",
   "execution_count": null,
   "id": "de16fc4e-3a6e-48c9-95da-f652322840e3",
   "metadata": {},
   "outputs": [],
   "source": []
  },
  {
   "cell_type": "code",
   "execution_count": 21,
   "id": "328e0a0e-c858-45dd-8624-36c9138c5cf0",
   "metadata": {
    "execution": {
     "iopub.execute_input": "2025-02-26T14:07:25.258994Z",
     "iopub.status.busy": "2025-02-26T14:07:25.257924Z",
     "iopub.status.idle": "2025-02-26T14:07:26.293945Z",
     "shell.execute_reply": "2025-02-26T14:07:26.292218Z",
     "shell.execute_reply.started": "2025-02-26T14:07:25.258912Z"
    }
   },
   "outputs": [],
   "source": [
    "\n",
    "import sqlite3 as sql\n",
    "import pandas as pd\n",
    "import numpy as np\n",
    "import networkx as nx\n",
    "import seaborn as sns\n",
    "import matplotlib.pyplot as plt\n",
    "import plotly.express as px"
   ]
  },
  {
   "cell_type": "code",
   "execution_count": 2,
   "id": "40c3b799-e552-4bab-9639-14edd4d5a3f4",
   "metadata": {
    "execution": {
     "iopub.execute_input": "2025-02-26T13:52:04.046570Z",
     "iopub.status.busy": "2025-02-26T13:52:04.045963Z",
     "iopub.status.idle": "2025-02-26T13:52:04.054389Z",
     "shell.execute_reply": "2025-02-26T13:52:04.053039Z",
     "shell.execute_reply.started": "2025-02-26T13:52:04.046541Z"
    }
   },
   "outputs": [],
   "source": [
    "### Define the path to the file (a string in a variable 'db_file')\n",
    "db_file = '../database/cortona_week.db'"
   ]
  },
  {
   "cell_type": "code",
   "execution_count": 3,
   "id": "c035b7e5-37fd-43c8-85e1-71e4c7eae6a1",
   "metadata": {
    "execution": {
     "iopub.execute_input": "2025-02-26T13:52:04.118811Z",
     "iopub.status.busy": "2025-02-26T13:52:04.117938Z",
     "iopub.status.idle": "2025-02-26T13:52:04.130881Z",
     "shell.execute_reply": "2025-02-26T13:52:04.128815Z",
     "shell.execute_reply.started": "2025-02-26T13:52:04.118733Z"
    }
   },
   "outputs": [],
   "source": [
    "### Créer une connexion vers la base de données\n",
    "# Attention: si la base de données n'existe pas, elle est créée à l'endroit indiqué.\n",
    "# Ce qui est une manière de la créer si souhaité\n",
    "try:\n",
    "    cn = sql.connect(db_file)\n",
    "except Exception as e:\n",
    "    print(e)    \n",
    "# Le contenu de la variable: connexion\n",
    "# cn"
   ]
  },
  {
   "cell_type": "code",
   "execution_count": 4,
   "id": "09449ba8-abaf-411b-bb4f-16035d6ca790",
   "metadata": {
    "execution": {
     "iopub.execute_input": "2025-02-26T13:52:04.950226Z",
     "iopub.status.busy": "2025-02-26T13:52:04.949232Z",
     "iopub.status.idle": "2025-02-26T13:52:04.961941Z",
     "shell.execute_reply": "2025-02-26T13:52:04.959606Z",
     "shell.execute_reply.started": "2025-02-26T13:52:04.950141Z"
    }
   },
   "outputs": [],
   "source": [
    "### La requête à effectuer\n",
    "# Préparée généralement directement sur la BD SQLite\n",
    "# Elle produit la liste des années de naissance,\n",
    "# une année par individu\n",
    "q1 = \"\"\"\n",
    "SELECT \n",
    "\tp.name,\n",
    "    p.pk_person,\n",
    "\tp.birth_date,\n",
    "\tp.gender, \n",
    "\tp.nationality, \n",
    "\te.title, \n",
    "\te.pk_event,\n",
    "\te.date,\n",
    "\tp2.description \n",
    "FROM\n",
    "\tPerson p \n",
    "JOIN\n",
    "\tParticipation p2 \n",
    "ON\n",
    "\tp.pk_person = p2.fk_person \n",
    "JOIN \n",
    "\tEvent e \n",
    "on\n",
    "\te.pk_event = p2.fk_event  \n",
    "\"\"\""
   ]
  },
  {
   "cell_type": "code",
   "execution_count": 5,
   "id": "c95f30d7-6789-46d3-9ed3-5d1dde84e66d",
   "metadata": {
    "execution": {
     "iopub.execute_input": "2025-02-26T13:52:05.738147Z",
     "iopub.status.busy": "2025-02-26T13:52:05.736641Z",
     "iopub.status.idle": "2025-02-26T13:52:05.764177Z",
     "shell.execute_reply": "2025-02-26T13:52:05.762087Z",
     "shell.execute_reply.started": "2025-02-26T13:52:05.738001Z"
    }
   },
   "outputs": [
    {
     "data": {
      "text/plain": [
       "<sqlite3.Cursor at 0x7a44c9d34f40>"
      ]
     },
     "execution_count": 5,
     "metadata": {},
     "output_type": "execute_result"
    }
   ],
   "source": [
    "### Création du conteneur du résultat de la requête\n",
    "cur = cn.cursor()\n",
    "cur"
   ]
  },
  {
   "cell_type": "code",
   "execution_count": 6,
   "id": "765579c7-c3c5-493a-ba29-032b557d2a1a",
   "metadata": {
    "execution": {
     "iopub.execute_input": "2025-02-26T13:52:06.645255Z",
     "iopub.status.busy": "2025-02-26T13:52:06.644309Z",
     "iopub.status.idle": "2025-02-26T13:52:06.671860Z",
     "shell.execute_reply": "2025-02-26T13:52:06.669435Z",
     "shell.execute_reply.started": "2025-02-26T13:52:06.645175Z"
    }
   },
   "outputs": [],
   "source": [
    "### Exécuter la requête et récupérer le résultat\n",
    "cur.execute(q1)\n",
    "# La méthode 'fetchall' permet de récupérer toutes les lignes\n",
    "r = cur.fetchall()"
   ]
  },
  {
   "cell_type": "code",
   "execution_count": 7,
   "id": "b1113923-f4ac-40d5-8a8f-bee7a7935abc",
   "metadata": {
    "execution": {
     "iopub.execute_input": "2025-02-26T13:52:07.863043Z",
     "iopub.status.busy": "2025-02-26T13:52:07.862106Z",
     "iopub.status.idle": "2025-02-26T13:52:07.877207Z",
     "shell.execute_reply": "2025-02-26T13:52:07.874600Z",
     "shell.execute_reply.started": "2025-02-26T13:52:07.862965Z"
    }
   },
   "outputs": [
    {
     "name": "stdout",
     "output_type": "stream",
     "text": [
      "555 \n",
      "-----\n",
      " <class 'list'> \n",
      "-----\n",
      " [('Pier Luigi Luisi', 1, 1938, 'm', 'Italien', 'Future Visions', 11, 1998, 'Organisation'), ('Pier Luigi Luisi', 1, 1938, 'm', 'Italien', 'Future Visions', 11, 1998, 'Workshop-Leiter'), ('Jörg Altherr-Flury', 2, 1944, 'm', None, 'Future Visions', 11, 1998, 'Workshop-Leiter'), ('Thea Altherr-Flury', 3, 1941, 'w', 'Schweiz', 'Future Visions', 11, 1998, 'Workshop-Leiter'), ('Shams Anwari-Alhossenyni', 4, 1937, 'm', None, 'Future Visions', 11, 1998, 'Workshop-Leiter')]\n",
      "Future Visions\n"
     ]
    }
   ],
   "source": [
    "### Inspecter le résultat:\n",
    "# longueur, type du résultat et premières lignes du résultat\n",
    "# On observe qu'il y a des trous et des répétitions:\n",
    "# plusieurs personnes on la même année de naissance\n",
    "print(len(r), '\\n-----\\n', type(r),  '\\n-----\\n', r[:5])\n",
    "print((r[1][5]))\n"
   ]
  },
  {
   "cell_type": "code",
   "execution_count": 8,
   "id": "a09c2477-b17e-48c2-95ba-9dfb6e6ed019",
   "metadata": {
    "execution": {
     "iopub.execute_input": "2025-02-26T13:52:09.284257Z",
     "iopub.status.busy": "2025-02-26T13:52:09.283274Z",
     "iopub.status.idle": "2025-02-26T13:52:09.302827Z",
     "shell.execute_reply": "2025-02-26T13:52:09.299870Z",
     "shell.execute_reply.started": "2025-02-26T13:52:09.284177Z"
    }
   },
   "outputs": [
    {
     "name": "stdout",
     "output_type": "stream",
     "text": [
      "(1, 2, 3, 4, 5, 6, 7, 8, 9, 10, 11, 12, 13, 14, 15, 16, 17, 18, 19, 20, 21, 22, 23, 24, 25, 26, 27, 28, 29, 30)\n",
      "485\n",
      "[('Pier Luigi Luisi', 1, 1938, 'm', 'Italien', 'Future Visions', 11, 1998, 'Workshop-Leiter'), ('Jörg Altherr-Flury', 2, 1944, 'm', None, 'Future Visions', 11, 1998, 'Workshop-Leiter'), ('Thea Altherr-Flury', 3, 1941, 'w', 'Schweiz', 'Future Visions', 11, 1998, 'Workshop-Leiter')]\n"
     ]
    }
   ],
   "source": [
    "### create a new list that only contains people that attended a cortona conference\n",
    "age_distribution=[]\n",
    "cortona_events=tuple(range(1,31))\n",
    "print(cortona_events)\n",
    "for i in range(0,len(r)):\n",
    "    if r[i][6] in cortona_events: \n",
    "        age_distribution.append(r[i])\n",
    "\n",
    "print(len(age_distribution))\n",
    "print(age_distribution[1:4])"
   ]
  },
  {
   "cell_type": "code",
   "execution_count": 14,
   "id": "b5861791-8cd9-45cb-9cf7-ad7adf4a721f",
   "metadata": {
    "execution": {
     "iopub.execute_input": "2025-02-26T13:56:44.138514Z",
     "iopub.status.busy": "2025-02-26T13:56:44.137510Z",
     "iopub.status.idle": "2025-02-26T13:56:44.216803Z",
     "shell.execute_reply": "2025-02-26T13:56:44.215297Z",
     "shell.execute_reply.started": "2025-02-26T13:56:44.138429Z"
    }
   },
   "outputs": [
    {
     "name": "stdout",
     "output_type": "stream",
     "text": [
      "                    person_name  person_id birth_date gender  nationality  \\\n",
      "0              Pier Luigi Luisi          1       1938      m      Italien   \n",
      "1                   Hans Primas         96       1928      m      Schweiz   \n",
      "2              Walter Schneider         97       None   None         None   \n",
      "3          Ulrich Müller-Herold         84       1943      m  Deutschland   \n",
      "4                Eduard Freitag         93       None   None         None   \n",
      "..                          ...        ...        ...    ...          ...   \n",
      "433          David Steindl-Rast         34       1926      m   Österreich   \n",
      "434          Michael Stillwater         35       None   None         None   \n",
      "435              Horta van Hoye         60       None   None         None   \n",
      "436  Regula Vollenweider Wepfer         54       None   None         None   \n",
      "437        Cornelia Walterspiel         39       None      w  Deutschland   \n",
      "\n",
      "    event_title  event_id  event_date       event_role  \n",
      "0     Cortona 1         1        1985     Organisation  \n",
      "1     Cortona 1         1        1985    Unterstützung  \n",
      "2     Cortona 1         1        1985    Unterstützung  \n",
      "3     Cortona 1         1        1985    Unterstützung  \n",
      "4     Cortona 1         1        1985    Unterstützung  \n",
      "..          ...       ...         ...              ...  \n",
      "433      Beauty        18        2005  Workshop-Leiter  \n",
      "434      Beauty        18        2005  Workshop-Leiter  \n",
      "435      Beauty        18        2005  Workshop-Leiter  \n",
      "436      Beauty        18        2005  Workshop-Leiter  \n",
      "437      Beauty        18        2005  Workshop-Leiter  \n",
      "\n",
      "[436 rows x 9 columns]\n",
      "person_name    object\n",
      "person_id       int64\n",
      "birth_date     object\n",
      "gender         object\n",
      "nationality    object\n",
      "event_title    object\n",
      "event_id        int64\n",
      "event_date      int64\n",
      "event_role     object\n",
      "dtype: object\n",
      "0      1938\n",
      "1      1928\n",
      "3      1943\n",
      "5      1948\n",
      "6      1939\n",
      "       ... \n",
      "414    1945\n",
      "415    1950\n",
      "420    1948\n",
      "422    1936\n",
      "433    1926\n",
      "Name: birth_date, Length: 273, dtype: object\n",
      "              person_name  person_id  birth_date gender  nationality  \\\n",
      "0        Pier Luigi Luisi          1      1938.0      m      Italien   \n",
      "1             Hans Primas         96      1928.0      m      Schweiz   \n",
      "3    Ulrich Müller-Herold         84      1943.0      m  Deutschland   \n",
      "5        Christian Thomas         95      1948.0      m      Schweiz   \n",
      "6              Roland Ris         94      1939.0      m      Schweiz   \n",
      "..                    ...        ...         ...    ...          ...   \n",
      "414   Doris Lässer-Aeppli         18      1945.0      w      Schweiz   \n",
      "415   Claudia Scheidegger         19      1950.0      w      Schweiz   \n",
      "420         Vanja Palmers         51      1948.0      m   Österreich   \n",
      "422   Herbert Pietschmann         72      1936.0      m   Österreich   \n",
      "433    David Steindl-Rast         34      1926.0      m   Österreich   \n",
      "\n",
      "    event_title  event_id  event_date       event_role  \n",
      "0     Cortona 1         1        1985     Organisation  \n",
      "1     Cortona 1         1        1985    Unterstützung  \n",
      "3     Cortona 1         1        1985    Unterstützung  \n",
      "5     Cortona 1         1        1985    Unterstützung  \n",
      "6     Cortona 1         1        1985    Unterstützung  \n",
      "..          ...       ...         ...              ...  \n",
      "414      Beauty        18        2005  Workshop-Leiter  \n",
      "415      Beauty        18        2005  Workshop-Leiter  \n",
      "420      Beauty        18        2005  Workshop-Leiter  \n",
      "422      Beauty        18        2005  Workshop-Leiter  \n",
      "433      Beauty        18        2005  Workshop-Leiter  \n",
      "\n",
      "[273 rows x 9 columns]\n"
     ]
    },
    {
     "name": "stderr",
     "output_type": "stream",
     "text": [
      "/tmp/ipykernel_118/1979429864.py:26: SettingWithCopyWarning: \n",
      "A value is trying to be set on a copy of a slice from a DataFrame.\n",
      "Try using .loc[row_indexer,col_indexer] = value instead\n",
      "\n",
      "See the caveats in the documentation: https://pandas.pydata.org/pandas-docs/stable/user_guide/indexing.html#returning-a-view-versus-a-copy\n",
      "  no_nan_unique_panda_data['birth_date']=no_nan_unique_panda_data['birth_date'].astype('float')\n"
     ]
    }
   ],
   "source": [
    "### create a new list in which a person is only found once per event even if they had mutiple functions\n",
    "panda_data=pd.DataFrame(age_distribution, columns=['person_name', \n",
    "                                                   'person_id','birth_date',\n",
    "                                                  'gender','nationality',\n",
    "                                                  'event_title','event_id',\n",
    "                                                  'event_date','event_role'])\n",
    "#print(panda_data)\n",
    "\n",
    "unique_panda_data=pd.DataFrame()\n",
    "\n",
    "for i in range(1,31):\n",
    "    temp_data=panda_data[panda_data['event_id']==i]\n",
    "    unique_temp_data=temp_data.drop_duplicates('person_id')\n",
    "    unique_panda_data=pd.concat([unique_panda_data,unique_temp_data],ignore_index=True)\n",
    "\n",
    "#print(unique_panda_data)\n",
    "\n",
    "unique_panda_data.replace('None',None)\n",
    "#print(unique_panda_data)\n",
    "unique_panda_data=unique_panda_data[unique_panda_data['birth_date']!= '']\n",
    "print(unique_panda_data)\n",
    "#.str.contains('')==False\n",
    "no_nan_unique_panda_data=unique_panda_data[unique_panda_data['birth_date'].notna()]\n",
    "print(no_nan_unique_panda_data.dtypes)\n",
    "print(no_nan_unique_panda_data['birth_date'])\n",
    "no_nan_unique_panda_data['birth_date']=no_nan_unique_panda_data['birth_date'].astype('float')\n",
    "\n",
    "\n",
    "\n",
    "print(no_nan_unique_panda_data)"
   ]
  },
  {
   "cell_type": "code",
   "execution_count": 15,
   "id": "34430008-41cd-4bbb-9a2f-0e7d43bc7adf",
   "metadata": {
    "execution": {
     "iopub.execute_input": "2025-02-26T13:56:46.084597Z",
     "iopub.status.busy": "2025-02-26T13:56:46.083627Z",
     "iopub.status.idle": "2025-02-26T13:56:46.436762Z",
     "shell.execute_reply": "2025-02-26T13:56:46.435229Z",
     "shell.execute_reply.started": "2025-02-26T13:56:46.084517Z"
    }
   },
   "outputs": [
    {
     "name": "stderr",
     "output_type": "stream",
     "text": [
      "/tmp/ipykernel_118/3387377982.py:3: SettingWithCopyWarning: \n",
      "A value is trying to be set on a copy of a slice from a DataFrame.\n",
      "Try using .loc[row_indexer,col_indexer] = value instead\n",
      "\n",
      "See the caveats in the documentation: https://pandas.pydata.org/pandas-docs/stable/user_guide/indexing.html#returning-a-view-versus-a-copy\n",
      "  no_nan_unique_panda_data['birth_date']=no_nan_unique_panda_data['event_date']-no_nan_unique_panda_data['birth_date']\n"
     ]
    },
    {
     "name": "stdout",
     "output_type": "stream",
     "text": [
      "0      47.0\n",
      "1      57.0\n",
      "3      42.0\n",
      "5      37.0\n",
      "6      46.0\n",
      "       ... \n",
      "414    60.0\n",
      "415    55.0\n",
      "420    57.0\n",
      "422    69.0\n",
      "433    79.0\n",
      "Name: birth_date, Length: 273, dtype: float64\n"
     ]
    },
    {
     "data": {
      "image/png": "[encoded data removed]",
      "text/plain": [
       "<Figure size 640x480 with 1 Axes>"
      ]
     },
     "metadata": {},
     "output_type": "display_data"
    }
   ],
   "source": [
    "### create boxplots of age per event\n",
    "\n",
    "no_nan_unique_panda_data['birth_date']=no_nan_unique_panda_data['event_date']-no_nan_unique_panda_data['birth_date'] \n",
    "boxplot=no_nan_unique_panda_data.boxplot(column=['birth_date'],by=['event_id'])\n",
    "\n",
    "print(no_nan_unique_panda_data['birth_date'])\n",
    "\n"
   ]
  },
  {
   "cell_type": "code",
   "execution_count": 16,
   "id": "83aac5c4-6b72-49b6-92e1-93deb974d990",
   "metadata": {
    "execution": {
     "iopub.execute_input": "2025-02-26T13:56:56.972276Z",
     "iopub.status.busy": "2025-02-26T13:56:56.970388Z",
     "iopub.status.idle": "2025-02-26T13:56:57.009448Z",
     "shell.execute_reply": "2025-02-26T13:56:57.008092Z",
     "shell.execute_reply.started": "2025-02-26T13:56:56.972188Z"
    }
   },
   "outputs": [
    {
     "name": "stdout",
     "output_type": "stream",
     "text": [
      "1\n",
      "47.0\n",
      "2\n",
      "45.0\n",
      "3\n",
      "50.5\n",
      "4\n",
      "51.0\n",
      "5\n",
      "52.5\n",
      "6\n",
      "49.0\n",
      "7\n",
      "51.0\n",
      "8\n",
      "52.5\n",
      "9\n",
      "nan\n",
      "10\n",
      "nan\n",
      "11\n",
      "57.0\n",
      "12\n",
      "nan\n",
      "13\n",
      "nan\n",
      "14\n",
      "nan\n",
      "15\n",
      "nan\n",
      "16\n",
      "nan\n",
      "17\n",
      "nan\n",
      "18\n",
      "62.0\n"
     ]
    }
   ],
   "source": [
    "mean_age_per_event=[]\n",
    "for i in range(1,19):\n",
    "    mask=no_nan_unique_panda_data['event_id'] == i\n",
    "    print(i)\n",
    "    #mean_age_per_event.append(no_nan_unique_panda_data[mask].mean())\n",
    "    print(no_nan_unique_panda_data[mask]['birth_date'].median())\n"
   ]
  },
  {
   "cell_type": "code",
   "execution_count": 27,
   "id": "711e44da-abe7-4209-b2e0-3c2b6a7f02aa",
   "metadata": {
    "execution": {
     "iopub.execute_input": "2025-02-26T14:12:23.303860Z",
     "iopub.status.busy": "2025-02-26T14:12:23.302567Z",
     "iopub.status.idle": "2025-02-26T14:12:23.677005Z",
     "shell.execute_reply": "2025-02-26T14:12:23.674864Z",
     "shell.execute_reply.started": "2025-02-26T14:12:23.303774Z"
    }
   },
   "outputs": [
    {
     "name": "stdout",
     "output_type": "stream",
     "text": [
      "gender\n",
      "m    192\n",
      "w     81\n",
      "Name: count, dtype: int64\n"
     ]
    },
    {
     "ename": "TypeError",
     "evalue": "Data source must be a DataFrame or Mapping, not <class 'pandas.core.series.Series'>.",
     "output_type": "error",
     "traceback": [
      "\u001b[0;31m---------------------------------------------------------------------------\u001b[0m",
      "\u001b[0;31mTypeError\u001b[0m                                 Traceback (most recent call last)",
      "Cell \u001b[0;32mIn[27], line 3\u001b[0m\n\u001b[1;32m      1\u001b[0m grouped \u001b[38;5;241m=\u001b[39m no_nan_unique_panda_data[\u001b[38;5;124m'\u001b[39m\u001b[38;5;124mgender\u001b[39m\u001b[38;5;124m'\u001b[39m]\u001b[38;5;241m.\u001b[39mvalue_counts()\n\u001b[1;32m      2\u001b[0m \u001b[38;5;28mprint\u001b[39m(grouped)\n\u001b[0;32m----> 3\u001b[0m \u001b[43msns\u001b[49m\u001b[38;5;241;43m.\u001b[39;49m\u001b[43mbarplot\u001b[49m\u001b[43m(\u001b[49m\u001b[43mdata\u001b[49m\u001b[38;5;241;43m=\u001b[39;49m\u001b[43mgrouped\u001b[49m\u001b[43m,\u001b[49m\u001b[43m \u001b[49m\u001b[43mx\u001b[49m\u001b[38;5;241;43m=\u001b[39;49m\u001b[38;5;124;43m\"\u001b[39;49m\u001b[38;5;124;43mgender\u001b[39;49m\u001b[38;5;124;43m\"\u001b[39;49m\u001b[43m,\u001b[49m\u001b[43m \u001b[49m\u001b[43my\u001b[49m\u001b[38;5;241;43m=\u001b[39;49m\u001b[38;5;124;43m\"\u001b[39;49m\u001b[38;5;124;43mevent_id\u001b[39;49m\u001b[38;5;124;43m\"\u001b[39;49m\u001b[43m)\u001b[49m\n\u001b[1;32m      4\u001b[0m plt\u001b[38;5;241m.\u001b[39mtitle(\u001b[38;5;124m\"\u001b[39m\u001b[38;5;124mFlights\u001b[39m\u001b[38;5;124m\"\u001b[39m)\n\u001b[1;32m      5\u001b[0m plt\u001b[38;5;241m.\u001b[39mshow()\n",
      "File \u001b[0;32m/opt/jlab-env/lib/python3.12/site-packages/seaborn/categorical.py:2341\u001b[0m, in \u001b[0;36mbarplot\u001b[0;34m(data, x, y, hue, order, hue_order, estimator, errorbar, n_boot, seed, units, weights, orient, color, palette, saturation, fill, hue_norm, width, dodge, gap, log_scale, native_scale, formatter, legend, capsize, err_kws, ci, errcolor, errwidth, ax, **kwargs)\u001b[0m\n\u001b[1;32m   2338\u001b[0m \u001b[38;5;28;01mif\u001b[39;00m estimator \u001b[38;5;129;01mis\u001b[39;00m \u001b[38;5;28mlen\u001b[39m:\n\u001b[1;32m   2339\u001b[0m     estimator \u001b[38;5;241m=\u001b[39m \u001b[38;5;124m\"\u001b[39m\u001b[38;5;124msize\u001b[39m\u001b[38;5;124m\"\u001b[39m\n\u001b[0;32m-> 2341\u001b[0m p \u001b[38;5;241m=\u001b[39m \u001b[43m_CategoricalAggPlotter\u001b[49m\u001b[43m(\u001b[49m\n\u001b[1;32m   2342\u001b[0m \u001b[43m    \u001b[49m\u001b[43mdata\u001b[49m\u001b[38;5;241;43m=\u001b[39;49m\u001b[43mdata\u001b[49m\u001b[43m,\u001b[49m\n\u001b[1;32m   2343\u001b[0m \u001b[43m    \u001b[49m\u001b[43mvariables\u001b[49m\u001b[38;5;241;43m=\u001b[39;49m\u001b[38;5;28;43mdict\u001b[39;49m\u001b[43m(\u001b[49m\u001b[43mx\u001b[49m\u001b[38;5;241;43m=\u001b[39;49m\u001b[43mx\u001b[49m\u001b[43m,\u001b[49m\u001b[43m \u001b[49m\u001b[43my\u001b[49m\u001b[38;5;241;43m=\u001b[39;49m\u001b[43my\u001b[49m\u001b[43m,\u001b[49m\u001b[43m \u001b[49m\u001b[43mhue\u001b[49m\u001b[38;5;241;43m=\u001b[39;49m\u001b[43mhue\u001b[49m\u001b[43m,\u001b[49m\u001b[43m \u001b[49m\u001b[43munits\u001b[49m\u001b[38;5;241;43m=\u001b[39;49m\u001b[43munits\u001b[49m\u001b[43m,\u001b[49m\u001b[43m \u001b[49m\u001b[43mweight\u001b[49m\u001b[38;5;241;43m=\u001b[39;49m\u001b[43mweights\u001b[49m\u001b[43m)\u001b[49m\u001b[43m,\u001b[49m\n\u001b[1;32m   2344\u001b[0m \u001b[43m    \u001b[49m\u001b[43morder\u001b[49m\u001b[38;5;241;43m=\u001b[39;49m\u001b[43morder\u001b[49m\u001b[43m,\u001b[49m\n\u001b[1;32m   2345\u001b[0m \u001b[43m    \u001b[49m\u001b[43morient\u001b[49m\u001b[38;5;241;43m=\u001b[39;49m\u001b[43morient\u001b[49m\u001b[43m,\u001b[49m\n\u001b[1;32m   2346\u001b[0m \u001b[43m    \u001b[49m\u001b[43mcolor\u001b[49m\u001b[38;5;241;43m=\u001b[39;49m\u001b[43mcolor\u001b[49m\u001b[43m,\u001b[49m\n\u001b[1;32m   2347\u001b[0m \u001b[43m    \u001b[49m\u001b[43mlegend\u001b[49m\u001b[38;5;241;43m=\u001b[39;49m\u001b[43mlegend\u001b[49m\u001b[43m,\u001b[49m\n\u001b[1;32m   2348\u001b[0m \u001b[43m\u001b[49m\u001b[43m)\u001b[49m\n\u001b[1;32m   2350\u001b[0m \u001b[38;5;28;01mif\u001b[39;00m ax \u001b[38;5;129;01mis\u001b[39;00m \u001b[38;5;28;01mNone\u001b[39;00m:\n\u001b[1;32m   2351\u001b[0m     ax \u001b[38;5;241m=\u001b[39m plt\u001b[38;5;241m.\u001b[39mgca()\n",
      "File \u001b[0;32m/opt/jlab-env/lib/python3.12/site-packages/seaborn/categorical.py:67\u001b[0m, in \u001b[0;36m_CategoricalPlotter.__init__\u001b[0;34m(self, data, variables, order, orient, require_numeric, color, legend)\u001b[0m\n\u001b[1;32m     56\u001b[0m \u001b[38;5;28;01mdef\u001b[39;00m \u001b[38;5;21m__init__\u001b[39m(\n\u001b[1;32m     57\u001b[0m     \u001b[38;5;28mself\u001b[39m,\n\u001b[1;32m     58\u001b[0m     data\u001b[38;5;241m=\u001b[39m\u001b[38;5;28;01mNone\u001b[39;00m,\n\u001b[0;32m   (...)\u001b[0m\n\u001b[1;32m     64\u001b[0m     legend\u001b[38;5;241m=\u001b[39m\u001b[38;5;124m\"\u001b[39m\u001b[38;5;124mauto\u001b[39m\u001b[38;5;124m\"\u001b[39m,\n\u001b[1;32m     65\u001b[0m ):\n\u001b[0;32m---> 67\u001b[0m     \u001b[38;5;28;43msuper\u001b[39;49m\u001b[43m(\u001b[49m\u001b[43m)\u001b[49m\u001b[38;5;241;43m.\u001b[39;49m\u001b[38;5;21;43m__init__\u001b[39;49m\u001b[43m(\u001b[49m\u001b[43mdata\u001b[49m\u001b[38;5;241;43m=\u001b[39;49m\u001b[43mdata\u001b[49m\u001b[43m,\u001b[49m\u001b[43m \u001b[49m\u001b[43mvariables\u001b[49m\u001b[38;5;241;43m=\u001b[39;49m\u001b[43mvariables\u001b[49m\u001b[43m)\u001b[49m\n\u001b[1;32m     69\u001b[0m     \u001b[38;5;66;03m# This method takes care of some bookkeeping that is necessary because the\u001b[39;00m\n\u001b[1;32m     70\u001b[0m     \u001b[38;5;66;03m# original categorical plots (prior to the 2021 refactor) had some rules that\u001b[39;00m\n\u001b[1;32m     71\u001b[0m     \u001b[38;5;66;03m# don't fit exactly into VectorPlotter logic. It may be wise to have a second\u001b[39;00m\n\u001b[0;32m   (...)\u001b[0m\n\u001b[1;32m     76\u001b[0m     \u001b[38;5;66;03m# default VectorPlotter rules. If we do decide to make orient part of the\u001b[39;00m\n\u001b[1;32m     77\u001b[0m     \u001b[38;5;66;03m# _base variable assignment, we'll want to figure out how to express that.\u001b[39;00m\n\u001b[1;32m     78\u001b[0m     \u001b[38;5;28;01mif\u001b[39;00m \u001b[38;5;28mself\u001b[39m\u001b[38;5;241m.\u001b[39minput_format \u001b[38;5;241m==\u001b[39m \u001b[38;5;124m\"\u001b[39m\u001b[38;5;124mwide\u001b[39m\u001b[38;5;124m\"\u001b[39m \u001b[38;5;129;01mand\u001b[39;00m orient \u001b[38;5;129;01min\u001b[39;00m [\u001b[38;5;124m\"\u001b[39m\u001b[38;5;124mh\u001b[39m\u001b[38;5;124m\"\u001b[39m, \u001b[38;5;124m\"\u001b[39m\u001b[38;5;124my\u001b[39m\u001b[38;5;124m\"\u001b[39m]:\n",
      "File \u001b[0;32m/opt/jlab-env/lib/python3.12/site-packages/seaborn/_base.py:634\u001b[0m, in \u001b[0;36mVectorPlotter.__init__\u001b[0;34m(self, data, variables)\u001b[0m\n\u001b[1;32m    629\u001b[0m \u001b[38;5;66;03m# var_ordered is relevant only for categorical axis variables, and may\u001b[39;00m\n\u001b[1;32m    630\u001b[0m \u001b[38;5;66;03m# be better handled by an internal axis information object that tracks\u001b[39;00m\n\u001b[1;32m    631\u001b[0m \u001b[38;5;66;03m# such information and is set up by the scale_* methods. The analogous\u001b[39;00m\n\u001b[1;32m    632\u001b[0m \u001b[38;5;66;03m# information for numeric axes would be information about log scales.\u001b[39;00m\n\u001b[1;32m    633\u001b[0m \u001b[38;5;28mself\u001b[39m\u001b[38;5;241m.\u001b[39m_var_ordered \u001b[38;5;241m=\u001b[39m {\u001b[38;5;124m\"\u001b[39m\u001b[38;5;124mx\u001b[39m\u001b[38;5;124m\"\u001b[39m: \u001b[38;5;28;01mFalse\u001b[39;00m, \u001b[38;5;124m\"\u001b[39m\u001b[38;5;124my\u001b[39m\u001b[38;5;124m\"\u001b[39m: \u001b[38;5;28;01mFalse\u001b[39;00m}  \u001b[38;5;66;03m# alt., used DefaultDict\u001b[39;00m\n\u001b[0;32m--> 634\u001b[0m \u001b[38;5;28;43mself\u001b[39;49m\u001b[38;5;241;43m.\u001b[39;49m\u001b[43massign_variables\u001b[49m\u001b[43m(\u001b[49m\u001b[43mdata\u001b[49m\u001b[43m,\u001b[49m\u001b[43m \u001b[49m\u001b[43mvariables\u001b[49m\u001b[43m)\u001b[49m\n\u001b[1;32m    636\u001b[0m \u001b[38;5;66;03m# TODO Lots of tests assume that these are called to initialize the\u001b[39;00m\n\u001b[1;32m    637\u001b[0m \u001b[38;5;66;03m# mappings to default values on class initialization. I'd prefer to\u001b[39;00m\n\u001b[1;32m    638\u001b[0m \u001b[38;5;66;03m# move away from that and only have a mapping when explicitly called.\u001b[39;00m\n\u001b[1;32m    639\u001b[0m \u001b[38;5;28;01mfor\u001b[39;00m var \u001b[38;5;129;01min\u001b[39;00m [\u001b[38;5;124m\"\u001b[39m\u001b[38;5;124mhue\u001b[39m\u001b[38;5;124m\"\u001b[39m, \u001b[38;5;124m\"\u001b[39m\u001b[38;5;124msize\u001b[39m\u001b[38;5;124m\"\u001b[39m, \u001b[38;5;124m\"\u001b[39m\u001b[38;5;124mstyle\u001b[39m\u001b[38;5;124m\"\u001b[39m]:\n",
      "File \u001b[0;32m/opt/jlab-env/lib/python3.12/site-packages/seaborn/_base.py:679\u001b[0m, in \u001b[0;36mVectorPlotter.assign_variables\u001b[0;34m(self, data, variables)\u001b[0m\n\u001b[1;32m    674\u001b[0m \u001b[38;5;28;01melse\u001b[39;00m:\n\u001b[1;32m    675\u001b[0m     \u001b[38;5;66;03m# When dealing with long-form input, use the newer PlotData\u001b[39;00m\n\u001b[1;32m    676\u001b[0m     \u001b[38;5;66;03m# object (internal but introduced for the objects interface)\u001b[39;00m\n\u001b[1;32m    677\u001b[0m     \u001b[38;5;66;03m# to centralize / standardize data consumption logic.\u001b[39;00m\n\u001b[1;32m    678\u001b[0m     \u001b[38;5;28mself\u001b[39m\u001b[38;5;241m.\u001b[39minput_format \u001b[38;5;241m=\u001b[39m \u001b[38;5;124m\"\u001b[39m\u001b[38;5;124mlong\u001b[39m\u001b[38;5;124m\"\u001b[39m\n\u001b[0;32m--> 679\u001b[0m     plot_data \u001b[38;5;241m=\u001b[39m \u001b[43mPlotData\u001b[49m\u001b[43m(\u001b[49m\u001b[43mdata\u001b[49m\u001b[43m,\u001b[49m\u001b[43m \u001b[49m\u001b[43mvariables\u001b[49m\u001b[43m)\u001b[49m\n\u001b[1;32m    680\u001b[0m     frame \u001b[38;5;241m=\u001b[39m plot_data\u001b[38;5;241m.\u001b[39mframe\n\u001b[1;32m    681\u001b[0m     names \u001b[38;5;241m=\u001b[39m plot_data\u001b[38;5;241m.\u001b[39mnames\n",
      "File \u001b[0;32m/opt/jlab-env/lib/python3.12/site-packages/seaborn/_core/data.py:57\u001b[0m, in \u001b[0;36mPlotData.__init__\u001b[0;34m(self, data, variables)\u001b[0m\n\u001b[1;32m     51\u001b[0m \u001b[38;5;28;01mdef\u001b[39;00m \u001b[38;5;21m__init__\u001b[39m(\n\u001b[1;32m     52\u001b[0m     \u001b[38;5;28mself\u001b[39m,\n\u001b[1;32m     53\u001b[0m     data: DataSource,\n\u001b[1;32m     54\u001b[0m     variables: \u001b[38;5;28mdict\u001b[39m[\u001b[38;5;28mstr\u001b[39m, VariableSpec],\n\u001b[1;32m     55\u001b[0m ):\n\u001b[0;32m---> 57\u001b[0m     data \u001b[38;5;241m=\u001b[39m \u001b[43mhandle_data_source\u001b[49m\u001b[43m(\u001b[49m\u001b[43mdata\u001b[49m\u001b[43m)\u001b[49m\n\u001b[1;32m     58\u001b[0m     frame, names, ids \u001b[38;5;241m=\u001b[39m \u001b[38;5;28mself\u001b[39m\u001b[38;5;241m.\u001b[39m_assign_variables(data, variables)\n\u001b[1;32m     60\u001b[0m     \u001b[38;5;28mself\u001b[39m\u001b[38;5;241m.\u001b[39mframe \u001b[38;5;241m=\u001b[39m frame\n",
      "File \u001b[0;32m/opt/jlab-env/lib/python3.12/site-packages/seaborn/_core/data.py:278\u001b[0m, in \u001b[0;36mhandle_data_source\u001b[0;34m(data)\u001b[0m\n\u001b[1;32m    276\u001b[0m \u001b[38;5;28;01melif\u001b[39;00m data \u001b[38;5;129;01mis\u001b[39;00m \u001b[38;5;129;01mnot\u001b[39;00m \u001b[38;5;28;01mNone\u001b[39;00m \u001b[38;5;129;01mand\u001b[39;00m \u001b[38;5;129;01mnot\u001b[39;00m \u001b[38;5;28misinstance\u001b[39m(data, Mapping):\n\u001b[1;32m    277\u001b[0m     err \u001b[38;5;241m=\u001b[39m \u001b[38;5;124mf\u001b[39m\u001b[38;5;124m\"\u001b[39m\u001b[38;5;124mData source must be a DataFrame or Mapping, not \u001b[39m\u001b[38;5;132;01m{\u001b[39;00m\u001b[38;5;28mtype\u001b[39m(data)\u001b[38;5;132;01m!r}\u001b[39;00m\u001b[38;5;124m.\u001b[39m\u001b[38;5;124m\"\u001b[39m\n\u001b[0;32m--> 278\u001b[0m     \u001b[38;5;28;01mraise\u001b[39;00m \u001b[38;5;167;01mTypeError\u001b[39;00m(err)\n\u001b[1;32m    280\u001b[0m \u001b[38;5;28;01mreturn\u001b[39;00m data\n",
      "\u001b[0;31mTypeError\u001b[0m: Data source must be a DataFrame or Mapping, not <class 'pandas.core.series.Series'>."
     ]
    }
   ],
   "source": [
    "grouped = no_nan_unique_panda_data['gender'].value_counts()\n",
    "print(grouped)\n",
    "sns.barplot(data=grouped, x=\"gender\", y=\"event_id\")\n",
    "plt.title(\"Flights\")\n",
    "plt.show()"
   ]
  },
  {
   "cell_type": "code",
   "execution_count": null,
   "id": "9c7840ae-35ce-4222-b6b6-d54386caa0e6",
   "metadata": {},
   "outputs": [],
   "source": []
  }
 ],
 "metadata": {
  "kernelspec": {
   "display_name": "Python3",
   "language": "python",
   "name": "python3"
  },
  "language_info": {
   "codemirror_mode": {
    "name": "ipython",
    "version": 3
   },
   "file_extension": ".py",
   "mimetype": "text/x-python",
   "name": "python",
   "nbconvert_exporter": "python",
   "pygments_lexer": "ipython3",
   "version": "3.12.5"
  }
 },
 "nbformat": 4,
 "nbformat_minor": 5
}
