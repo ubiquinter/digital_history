{
 "cells": [
  {
   "cell_type": "code",
   "execution_count": 2,
   "id": "e8d0d3ad-56d0-408c-9f8b-65379a709be6",
   "metadata": {
    "execution": {
     "iopub.execute_input": "2025-06-10T07:33:38.707946Z",
     "iopub.status.busy": "2025-06-10T07:33:38.706848Z",
     "iopub.status.idle": "2025-06-10T07:33:38.914041Z",
     "shell.execute_reply": "2025-06-10T07:33:38.910445Z",
     "shell.execute_reply.started": "2025-06-10T07:33:38.707847Z"
    }
   },
   "outputs": [
    {
     "name": "stdout",
     "output_type": "stream",
     "text": [
      "Do not use pip without activating a virtual environment first!\n",
      "Otherwise, you might break your default Python environment and not be able to start Jupyter again.\n",
      "Check the Documentation on how to deal with virtual environments:\n",
      "🗀 / Documentation / 10_Envs_and_kernels.ipynb\n"
     ]
    }
   ],
   "source": []
  },
  {
   "cell_type": "code",
   "execution_count": 1,
   "id": "0f2f0f14-da84-42be-95af-b5540cbd3300",
   "metadata": {
    "execution": {
     "iopub.execute_input": "2025-06-10T07:27:26.966355Z",
     "iopub.status.busy": "2025-06-10T07:27:26.965310Z",
     "iopub.status.idle": "2025-06-10T07:27:28.786095Z",
     "shell.execute_reply": "2025-06-10T07:27:28.784579Z",
     "shell.execute_reply.started": "2025-06-10T07:27:26.966265Z"
    }
   },
   "outputs": [
    {
     "ename": "ModuleNotFoundError",
     "evalue": "No module named 'thefuzz'",
     "output_type": "error",
     "traceback": [
      "\u001b[0;31m---------------------------------------------------------------------------\u001b[0m",
      "\u001b[0;31mModuleNotFoundError\u001b[0m                       Traceback (most recent call last)",
      "Cell \u001b[0;32mIn[1], line 9\u001b[0m\n\u001b[1;32m      6\u001b[0m \u001b[38;5;28;01mimport\u001b[39;00m \u001b[38;5;21;01mnetworkx\u001b[39;00m \u001b[38;5;28;01mas\u001b[39;00m \u001b[38;5;21;01mnx\u001b[39;00m\n\u001b[1;32m      8\u001b[0m \u001b[38;5;28;01mimport\u001b[39;00m \u001b[38;5;21;01mitertools\u001b[39;00m\n\u001b[0;32m----> 9\u001b[0m \u001b[38;5;28;01mimport\u001b[39;00m \u001b[38;5;21;01mthefuzz\u001b[39;00m\n\u001b[1;32m     10\u001b[0m \u001b[38;5;28;01mimport\u001b[39;00m \u001b[38;5;21;01mmatplotlib\u001b[39;00m\u001b[38;5;21;01m.\u001b[39;00m\u001b[38;5;21;01mpyplot\u001b[39;00m \u001b[38;5;28;01mas\u001b[39;00m \u001b[38;5;21;01mplt\u001b[39;00m\n\u001b[1;32m     11\u001b[0m \u001b[38;5;28;01mimport\u001b[39;00m \u001b[38;5;21;01mplotly\u001b[39;00m\u001b[38;5;21;01m.\u001b[39;00m\u001b[38;5;21;01mexpress\u001b[39;00m \u001b[38;5;28;01mas\u001b[39;00m \u001b[38;5;21;01mpx\u001b[39;00m\n",
      "\u001b[0;31mModuleNotFoundError\u001b[0m: No module named 'thefuzz'"
     ]
    }
   ],
   "source": [
    "#import\n",
    "\n",
    "import sqlite3 as sql\n",
    "import pandas as pd\n",
    "import numpy as np\n",
    "import networkx as nx\n",
    "\n",
    "import itertools\n",
    "import thefuzz\n",
    "import matplotlib.pyplot as plt\n",
    "import plotly.express as px"
   ]
  },
  {
   "cell_type": "code",
   "execution_count": null,
   "id": "d02e012b-af9d-4546-9fa6-1ade5cf447db",
   "metadata": {},
   "outputs": [],
   "source": []
  },
  {
   "cell_type": "code",
   "execution_count": null,
   "id": "aa1c0e53-14ca-41e9-86db-b511b7a73155",
   "metadata": {},
   "outputs": [],
   "source": []
  },
  {
   "cell_type": "code",
   "execution_count": null,
   "id": "bbaf7543-5fb6-4145-9380-2cc0dc7ea271",
   "metadata": {},
   "outputs": [],
   "source": []
  },
  {
   "cell_type": "code",
   "execution_count": null,
   "id": "b8539e50-b1c3-47b3-bbd9-7f4e665e1ed4",
   "metadata": {},
   "outputs": [],
   "source": []
  }
 ],
 "metadata": {
  "kernelspec": {
   "display_name": "Python3",
   "language": "python",
   "name": "python3"
  },
  "language_info": {
   "codemirror_mode": {
    "name": "ipython",
    "version": 3
   },
   "file_extension": ".py",
   "mimetype": "text/x-python",
   "name": "python",
   "nbconvert_exporter": "python",
   "pygments_lexer": "ipython3",
   "version": "3.12.5"
  }
 },
 "nbformat": 4,
 "nbformat_minor": 5
}
