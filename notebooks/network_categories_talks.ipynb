{
 "cells": [
  {
   "cell_type": "code",
   "execution_count": 1,
   "id": "5d7b659c-8d26-42db-85a8-046ca3456936",
   "metadata": {
    "execution": {
     "iopub.execute_input": "2025-05-13T21:51:32.414500Z",
     "iopub.status.busy": "2025-05-13T21:51:32.412246Z",
     "iopub.status.idle": "2025-05-13T21:51:35.535967Z",
     "shell.execute_reply": "2025-05-13T21:51:35.532246Z",
     "shell.execute_reply.started": "2025-05-13T21:51:32.414351Z"
    }
   },
   "outputs": [],
   "source": [
    "import sqlite3 as sql\n",
    "import pandas as pd\n",
    "import numpy as np\n",
    "import networkx as nx\n",
    "import seaborn as sns\n",
    "import matplotlib.pyplot as plt\n",
    "import plotly.express as px"
   ]
  },
  {
   "cell_type": "code",
   "execution_count": 2,
   "id": "4987342f-ee0f-427b-925b-37e1efc243bb",
   "metadata": {
    "execution": {
     "iopub.execute_input": "2025-05-13T21:51:35.546673Z",
     "iopub.status.busy": "2025-05-13T21:51:35.543231Z",
     "iopub.status.idle": "2025-05-13T21:51:35.560025Z",
     "shell.execute_reply": "2025-05-13T21:51:35.558010Z",
     "shell.execute_reply.started": "2025-05-13T21:51:35.546581Z"
    }
   },
   "outputs": [],
   "source": [
    "### Define the path to the file (a string in a variable 'db_file')\n",
    "db_file = '../database/cortona_week.db'"
   ]
  },
  {
   "cell_type": "code",
   "execution_count": 3,
   "id": "394dcead-70ef-4b15-a17a-b24f5ce93a08",
   "metadata": {
    "execution": {
     "iopub.execute_input": "2025-05-13T21:51:35.562040Z",
     "iopub.status.busy": "2025-05-13T21:51:35.561565Z",
     "iopub.status.idle": "2025-05-13T21:51:35.605236Z",
     "shell.execute_reply": "2025-05-13T21:51:35.602990Z",
     "shell.execute_reply.started": "2025-05-13T21:51:35.561988Z"
    }
   },
   "outputs": [],
   "source": [
    "### Créer une connexion vers la base de données\n",
    "# Attention: si la base de données n'existe pas, elle est créée à l'endroit indiqué.\n",
    "# Ce qui est une manière de la créer si souhaité\n",
    "try:\n",
    "    cn = sql.connect(db_file)\n",
    "except Exception as e:\n",
    "    print(e)    \n",
    "# Le contenu de la variable: connexion\n",
    "# cn"
   ]
  },
  {
   "cell_type": "code",
   "execution_count": 4,
   "id": "0680a671-0db5-47f2-be44-4e2fb43ff4ea",
   "metadata": {
    "execution": {
     "iopub.execute_input": "2025-05-13T21:51:35.608647Z",
     "iopub.status.busy": "2025-05-13T21:51:35.608183Z",
     "iopub.status.idle": "2025-05-13T21:51:35.644445Z",
     "shell.execute_reply": "2025-05-13T21:51:35.640920Z",
     "shell.execute_reply.started": "2025-05-13T21:51:35.608605Z"
    }
   },
   "outputs": [],
   "source": [
    "### La requête à effectuer\n",
    "# Préparée généralement directement sur la BD SQLite\n",
    "# Elle produit la liste des années de naissance,\n",
    "# une année par individu\n",
    "q1 = \"\"\"\n",
    "SELECT \n",
    "\tT.fk_workshop,\n",
    "\tT.fk_categories, \n",
    "\tW.fk_event\n",
    "FROM\n",
    "\tTopics T \n",
    "JOIN\n",
    "\tWorkshop W \n",
    "ON\n",
    "\tT.fk_workshop = W.pk_workshop \n",
    "JOIN \n",
    "\tCategories C \n",
    "on\n",
    "\tT.fk_categories = C.pk_categories \n",
    "\"\"\"\n",
    "q2 = \"\"\"\n",
    "SELECT \n",
    "\tW.pk_workshop,\n",
    "    W.name,\n",
    "    W.fk_event\n",
    "\t\n",
    "FROM\n",
    "\tWorkshop W \n",
    "\n",
    "\"\"\"\n",
    "q3 = \"\"\"\n",
    "SELECT \n",
    "\tC.pk_categories,\n",
    "    C.categories,\n",
    "    C.meta_category\n",
    "FROM\n",
    "\tCategories C \n",
    "\"\"\"\n",
    "\n",
    "q4 = '''\n",
    "SELECT\n",
    "    p.fk_person,\n",
    "    p.fk_workshop\n",
    "FROM\n",
    "    Presentation p\n",
    "\n",
    "'''"
   ]
  },
  {
   "cell_type": "code",
   "execution_count": 5,
   "id": "086322e8-6d3a-48ce-a0b7-f7438521e737",
   "metadata": {
    "execution": {
     "iopub.execute_input": "2025-05-13T21:51:35.651997Z",
     "iopub.status.busy": "2025-05-13T21:51:35.649221Z",
     "iopub.status.idle": "2025-05-13T21:51:35.703396Z",
     "shell.execute_reply": "2025-05-13T21:51:35.700714Z",
     "shell.execute_reply.started": "2025-05-13T21:51:35.651904Z"
    }
   },
   "outputs": [
    {
     "data": {
      "text/plain": [
       "<sqlite3.Cursor at 0x7b9628fabcc0>"
      ]
     },
     "execution_count": 5,
     "metadata": {},
     "output_type": "execute_result"
    }
   ],
   "source": [
    "### Création du conteneur du résultat de la requête\n",
    "cur = cn.cursor()\n",
    "cur"
   ]
  },
  {
   "cell_type": "code",
   "execution_count": 6,
   "id": "16dc69db-8a49-45a0-a234-4555e0c1907c",
   "metadata": {
    "execution": {
     "iopub.execute_input": "2025-05-13T21:51:35.708089Z",
     "iopub.status.busy": "2025-05-13T21:51:35.706937Z",
     "iopub.status.idle": "2025-05-13T21:51:35.764921Z",
     "shell.execute_reply": "2025-05-13T21:51:35.762115Z",
     "shell.execute_reply.started": "2025-05-13T21:51:35.708002Z"
    }
   },
   "outputs": [],
   "source": [
    "### Exécuter la requête et récupérer le résultat\n",
    "cur.execute(q1)\n",
    "# La méthode 'fetchall' permet de récupérer toutes les lignes\n",
    "edges_data = cur.fetchall()\n",
    "\n",
    "cur.execute(q2)\n",
    "# La méthode 'fetchall' permet de récupérer toutes les lignes\n",
    "workshop_data = cur.fetchall()\n",
    "\n",
    "cur.execute(q3)\n",
    "# La méthode 'fetchall' permet de récupérer toutes les lignes\n",
    "categories_data = cur.fetchall()\n",
    "\n",
    "cur.execute(q4)\n",
    "# La méthode 'fetchall' permet de récupérer toutes les lignes\n",
    "person_workshop_edge_data = cur.fetchall()\n"
   ]
  },
  {
   "cell_type": "code",
   "execution_count": 7,
   "id": "3c8d0329-cad0-446d-a503-45e72dda539c",
   "metadata": {
    "execution": {
     "iopub.execute_input": "2025-05-13T21:51:35.771928Z",
     "iopub.status.busy": "2025-05-13T21:51:35.771011Z",
     "iopub.status.idle": "2025-05-13T21:51:35.809693Z",
     "shell.execute_reply": "2025-05-13T21:51:35.806676Z",
     "shell.execute_reply.started": "2025-05-13T21:51:35.771853Z"
    }
   },
   "outputs": [],
   "source": [
    "panda_data_edges=pd.DataFrame(edges_data, columns=['workshop_id', \n",
    "                                                   'category_id','event_id'])\n",
    "\n",
    "panda_data_workshop=pd.DataFrame(workshop_data, columns=['workshop_id', \n",
    "                                                   'workshop_name','event_id'])\n",
    "panda_data_categories=pd.DataFrame(categories_data, columns=['category_id', \n",
    "                                                   'category_name', 'meta_category'])\n",
    "\n",
    "panda_data_person_workshop_edge = pd.DataFrame(person_workshop_edge_data, columns =['person_id',\n",
    "                                                                                   'workshop_id'])\n",
    "\n"
   ]
  },
  {
   "cell_type": "code",
   "execution_count": 8,
   "id": "84aad135-8939-4b2c-8fa1-94c2475c4df3",
   "metadata": {
    "execution": {
     "iopub.execute_input": "2025-05-13T21:51:36.347780Z",
     "iopub.status.busy": "2025-05-13T21:51:36.346096Z",
     "iopub.status.idle": "2025-05-13T21:51:36.474044Z",
     "shell.execute_reply": "2025-05-13T21:51:36.469932Z",
     "shell.execute_reply.started": "2025-05-13T21:51:36.347700Z"
    }
   },
   "outputs": [
    {
     "name": "stdout",
     "output_type": "stream",
     "text": [
      "        id                                               name attribute  \\\n",
      "0    20011  The Structure of Thought in Western and Easter...  workshop   \n",
      "1    20012                        Fragmentation and Wholeness  workshop   \n",
      "2    20013                    The Re-Enchantment of the World  workshop   \n",
      "3    20014                      Politics, Economy and Science  workshop   \n",
      "4    20015  Fragmentation and Wholeness in Science and Soc...  workshop   \n",
      "..     ...                                                ...       ...   \n",
      "119  15121                                             Europa  category   \n",
      "120  15122                                Gesellschaftskritik  category   \n",
      "121  15123                                    Quantummechanik  category   \n",
      "122  15124                             Künstliche Intelligenz  category   \n",
      "123  15125                                    Parapsychologie  category   \n",
      "\n",
      "     event_id  meta_category  \n",
      "0           1              0  \n",
      "1           1              0  \n",
      "2           1              0  \n",
      "3           1              0  \n",
      "4           1              0  \n",
      "..        ...            ...  \n",
      "119         0              1  \n",
      "120         0              1  \n",
      "121         0              2  \n",
      "122         0              2  \n",
      "123         0              6  \n",
      "\n",
      "[379 rows x 5 columns]\n"
     ]
    }
   ],
   "source": [
    "panda_data_categories['category_id']=panda_data_categories['category_id']+15000\n",
    "panda_data_workshop['workshop_id']=panda_data_workshop['workshop_id']+20000\n",
    "\n",
    "panda_data_workshop=panda_data_workshop.rename(columns={'workshop_id':'id','workshop_name':'name'})\n",
    "panda_data_categories=panda_data_categories.rename(columns={'category_id':'id','category_name':'name'})\n",
    "panda_data_categories['event_id']=0\n",
    "panda_data_workshop['attribute']='workshop'\n",
    "panda_data_categories['attribute']='category'\n",
    "panda_data_workshop['meta_category']=0\n",
    "\n",
    "panda_nodes_id=pd.concat([panda_data_workshop['id'],panda_data_categories['id']])\n",
    "panda_nodes_name=pd.concat([panda_data_workshop[['name']],panda_data_categories[['name']]])\n",
    "panda_nodes_attribute=pd.concat([panda_data_workshop['attribute'],panda_data_categories['attribute']])\n",
    "panda_nodes_event=pd.concat([panda_data_workshop['event_id'],panda_data_categories['event_id']])\n",
    "panda_nodes_metacategory=pd.concat([panda_data_workshop['meta_category'],panda_data_categories['meta_category']])\n",
    "\n",
    "panda_nodes=pd.concat([panda_nodes_id,panda_nodes_name,panda_nodes_attribute,panda_nodes_event, panda_nodes_metacategory],axis=1)\n",
    "print(panda_nodes)\n",
    "panda_edges=pd.concat([panda_data_edges['workshop_id']+20000,panda_data_edges['category_id']+15000,panda_data_edges['event_id']],axis=1)\n",
    "panda_edges=panda_edges.rename(columns={'workshop_id':'source','category_id':'target'})\n",
    "#panda_edges.describe()\n",
    "panda_data_person_workshop_edge['workshop_id']=panda_data_person_workshop_edge['workshop_id']+20000\n",
    "panda_data_person_workshop_edge=panda_data_person_workshop_edge.rename(columns={'workshop_id': 'target',\n",
    "                                                                               'person_id':'source'})\n",
    "panda_data_person_workshop_edge['attribute']='person_workshop'\n",
    "panda_nodes['[z]']=1\n",
    "panda_nodes.to_csv('nodes_categories.csv',index=False) \n",
    "panda_edges.to_csv('edges_categories.csv',index=False) \n",
    "panda_data_person_workshop_edge.to_csv('workshop_person_edges.csv',index=False)"
   ]
  },
  {
   "cell_type": "code",
   "execution_count": null,
   "id": "13f9df22-466a-4054-b796-cf62f40a5bb7",
   "metadata": {},
   "outputs": [],
   "source": []
  },
  {
   "cell_type": "code",
   "execution_count": null,
   "id": "18a5f7e8-d024-44a0-a777-b59ddb7ea135",
   "metadata": {},
   "outputs": [],
   "source": []
  }
 ],
 "metadata": {
  "kernelspec": {
   "display_name": "Python3",
   "language": "python",
   "name": "python3"
  },
  "language_info": {
   "codemirror_mode": {
    "name": "ipython",
    "version": 3
   },
   "file_extension": ".py",
   "mimetype": "text/x-python",
   "name": "python",
   "nbconvert_exporter": "python",
   "pygments_lexer": "ipython3",
   "version": "3.12.5"
  }
 },
 "nbformat": 4,
 "nbformat_minor": 5
}
