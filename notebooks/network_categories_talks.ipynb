{
 "cells": [
  {
   "cell_type": "code",
   "execution_count": 1,
   "id": "d515121d-1800-4fd4-916d-58632818217b",
   "metadata": {
    "execution": {
     "iopub.execute_input": "2025-06-15T12:45:11.673792Z",
     "iopub.status.busy": "2025-06-15T12:45:11.672708Z",
     "iopub.status.idle": "2025-06-15T12:45:11.937638Z",
     "shell.execute_reply": "2025-06-15T12:45:11.935398Z",
     "shell.execute_reply.started": "2025-06-15T12:45:11.673702Z"
    }
   },
   "outputs": [
    {
     "ename": "NameError",
     "evalue": "name 'panda_nodes' is not defined",
     "output_type": "error",
     "traceback": [
      "\u001b[0;31m---------------------------------------------------------------------------\u001b[0m",
      "\u001b[0;31mNameError\u001b[0m                                 Traceback (most recent call last)",
      "Cell \u001b[0;32mIn[1], line 4\u001b[0m\n\u001b[1;32m      1\u001b[0m \u001b[38;5;66;03m### This file produces 3 .csv files that are then used to import a network into gephi.\u001b[39;00m\n\u001b[1;32m      2\u001b[0m \u001b[38;5;66;03m### Both categories and workshops (instances from Categories and Workshop\u001b[39;00m\n\u001b[0;32m----> 4\u001b[0m \u001b[43mpanda_nodes\u001b[49m\u001b[38;5;241m.\u001b[39mto_csv(\u001b[38;5;124m'\u001b[39m\u001b[38;5;124mnodes_categories.csv\u001b[39m\u001b[38;5;124m'\u001b[39m,index\u001b[38;5;241m=\u001b[39m\u001b[38;5;28;01mFalse\u001b[39;00m) \n\u001b[1;32m      5\u001b[0m panda_edges\u001b[38;5;241m.\u001b[39mto_csv(\u001b[38;5;124m'\u001b[39m\u001b[38;5;124medges_categories.csv\u001b[39m\u001b[38;5;124m'\u001b[39m,index\u001b[38;5;241m=\u001b[39m\u001b[38;5;28;01mFalse\u001b[39;00m) \n\u001b[1;32m      6\u001b[0m panda_data_person_workshop_edge\u001b[38;5;241m.\u001b[39mto_csv(\u001b[38;5;124m'\u001b[39m\u001b[38;5;124mworkshop_person_edges.csv\u001b[39m\u001b[38;5;124m'\u001b[39m,index\u001b[38;5;241m=\u001b[39m\u001b[38;5;28;01mFalse\u001b[39;00m)\n",
      "\u001b[0;31mNameError\u001b[0m: name 'panda_nodes' is not defined"
     ]
    }
   ],
   "source": [
    "### This file produces 3 .csv files that are then used to import a network into gephi.\n",
    "### Both categories and workshops (instances from Categories and Workshop\n",
    "\n"
   ]
  },
  {
   "cell_type": "code",
   "execution_count": 2,
   "id": "5d7b659c-8d26-42db-85a8-046ca3456936",
   "metadata": {
    "execution": {
     "iopub.execute_input": "2025-06-15T12:45:23.259651Z",
     "iopub.status.busy": "2025-06-15T12:45:23.257064Z",
     "iopub.status.idle": "2025-06-15T12:45:25.799121Z",
     "shell.execute_reply": "2025-06-15T12:45:25.797485Z",
     "shell.execute_reply.started": "2025-06-15T12:45:23.259560Z"
    }
   },
   "outputs": [],
   "source": [
    "import sqlite3 as sql\n",
    "import pandas as pd\n",
    "import numpy as np\n",
    "import networkx as nx\n",
    "import seaborn as sns\n",
    "import matplotlib.pyplot as plt\n",
    "import plotly.express as px"
   ]
  },
  {
   "cell_type": "code",
   "execution_count": 3,
   "id": "4987342f-ee0f-427b-925b-37e1efc243bb",
   "metadata": {
    "execution": {
     "iopub.execute_input": "2025-06-15T12:45:25.801541Z",
     "iopub.status.busy": "2025-06-15T12:45:25.800925Z",
     "iopub.status.idle": "2025-06-15T12:45:25.807685Z",
     "shell.execute_reply": "2025-06-15T12:45:25.806498Z",
     "shell.execute_reply.started": "2025-06-15T12:45:25.801513Z"
    }
   },
   "outputs": [],
   "source": [
    "### Define the path to the file (a string in a variable 'db_file')\n",
    "db_file = '../database/cortona_week.db'"
   ]
  },
  {
   "cell_type": "code",
   "execution_count": 4,
   "id": "394dcead-70ef-4b15-a17a-b24f5ce93a08",
   "metadata": {
    "execution": {
     "iopub.execute_input": "2025-06-15T12:45:25.809021Z",
     "iopub.status.busy": "2025-06-15T12:45:25.808767Z",
     "iopub.status.idle": "2025-06-15T12:45:25.848296Z",
     "shell.execute_reply": "2025-06-15T12:45:25.845837Z",
     "shell.execute_reply.started": "2025-06-15T12:45:25.808998Z"
    }
   },
   "outputs": [],
   "source": [
    "### Create a connection to the database\n",
    "# If the database does not exist it will be created\n",
    "try:\n",
    "    cn = sql.connect(db_file)\n",
    "except Exception as e:\n",
    "    print(e)    \n"
   ]
  },
  {
   "cell_type": "code",
   "execution_count": 5,
   "id": "0680a671-0db5-47f2-be44-4e2fb43ff4ea",
   "metadata": {
    "execution": {
     "iopub.execute_input": "2025-06-15T12:45:25.853911Z",
     "iopub.status.busy": "2025-06-15T12:45:25.853005Z",
     "iopub.status.idle": "2025-06-15T12:45:25.886034Z",
     "shell.execute_reply": "2025-06-15T12:45:25.882840Z",
     "shell.execute_reply.started": "2025-06-15T12:45:25.853835Z"
    }
   },
   "outputs": [],
   "source": [
    "### SQL Queries\n",
    "q1 = \"\"\"\n",
    "SELECT \n",
    "\tT.fk_workshop,\n",
    "\tT.fk_categories, \n",
    "\tW.fk_event\n",
    "FROM\n",
    "\tTopics T \n",
    "JOIN\n",
    "\tWorkshop W \n",
    "ON\n",
    "\tT.fk_workshop = W.pk_workshop \n",
    "JOIN \n",
    "\tCategories C \n",
    "on\n",
    "\tT.fk_categories = C.pk_categories \n",
    "\"\"\"\n",
    "q2 = \"\"\"\n",
    "SELECT \n",
    "\tW.pk_workshop,\n",
    "    W.name,\n",
    "    W.fk_event\n",
    "\t\n",
    "FROM\n",
    "\tWorkshop W \n",
    "\n",
    "\"\"\"\n",
    "q3 = \"\"\"\n",
    "SELECT \n",
    "\tC.pk_categories,\n",
    "    C.categories,\n",
    "    C.meta_category\n",
    "FROM\n",
    "\tCategories C \n",
    "\"\"\"\n",
    "\n",
    "q4 = '''\n",
    "SELECT\n",
    "    p.fk_person,\n",
    "    p.fk_workshop\n",
    "FROM\n",
    "    Presentation p\n",
    "\n",
    "'''"
   ]
  },
  {
   "cell_type": "code",
   "execution_count": 6,
   "id": "086322e8-6d3a-48ce-a0b7-f7438521e737",
   "metadata": {
    "execution": {
     "iopub.execute_input": "2025-06-15T12:45:26.385147Z",
     "iopub.status.busy": "2025-06-15T12:45:26.384144Z",
     "iopub.status.idle": "2025-06-15T12:45:26.407964Z",
     "shell.execute_reply": "2025-06-15T12:45:26.406457Z",
     "shell.execute_reply.started": "2025-06-15T12:45:26.385062Z"
    }
   },
   "outputs": [
    {
     "data": {
      "text/plain": [
       "<sqlite3.Cursor at 0x779d78ebb9c0>"
      ]
     },
     "execution_count": 6,
     "metadata": {},
     "output_type": "execute_result"
    }
   ],
   "source": [
    "### Creates container for results\n",
    "cur = cn.cursor()\n",
    "cur"
   ]
  },
  {
   "cell_type": "code",
   "execution_count": 7,
   "id": "16dc69db-8a49-45a0-a234-4555e0c1907c",
   "metadata": {
    "execution": {
     "iopub.execute_input": "2025-06-15T12:45:26.948470Z",
     "iopub.status.busy": "2025-06-15T12:45:26.947439Z",
     "iopub.status.idle": "2025-06-15T12:45:26.989730Z",
     "shell.execute_reply": "2025-06-15T12:45:26.986531Z",
     "shell.execute_reply.started": "2025-06-15T12:45:26.948387Z"
    }
   },
   "outputs": [],
   "source": [
    "### Execute the SQL queries and save the results\n",
    "cur.execute(q1)\n",
    "# La méthode 'fetchall' permet de récupérer toutes les lignes\n",
    "edges_data = cur.fetchall()\n",
    "\n",
    "cur.execute(q2)\n",
    "# La méthode 'fetchall' permet de récupérer toutes les lignes\n",
    "workshop_data = cur.fetchall()\n",
    "\n",
    "cur.execute(q3)\n",
    "# La méthode 'fetchall' permet de récupérer toutes les lignes\n",
    "categories_data = cur.fetchall()\n",
    "\n",
    "cur.execute(q4)\n",
    "# La méthode 'fetchall' permet de récupérer toutes les lignes\n",
    "person_workshop_edge_data = cur.fetchall()\n"
   ]
  },
  {
   "cell_type": "code",
   "execution_count": 8,
   "id": "3c8d0329-cad0-446d-a503-45e72dda539c",
   "metadata": {
    "execution": {
     "iopub.execute_input": "2025-06-15T12:45:27.735639Z",
     "iopub.status.busy": "2025-06-15T12:45:27.734567Z",
     "iopub.status.idle": "2025-06-15T12:45:27.759588Z",
     "shell.execute_reply": "2025-06-15T12:45:27.757962Z",
     "shell.execute_reply.started": "2025-06-15T12:45:27.735555Z"
    }
   },
   "outputs": [],
   "source": [
    "panda_data_edges=pd.DataFrame(edges_data, columns=['workshop_id', \n",
    "                                                   'category_id','event_id'])\n",
    "\n",
    "panda_data_workshop=pd.DataFrame(workshop_data, columns=['workshop_id', \n",
    "                                                   'workshop_name','event_id'])\n",
    "panda_data_categories=pd.DataFrame(categories_data, columns=['category_id', \n",
    "                                                   'category_name', 'meta_category'])\n",
    "\n",
    "panda_data_person_workshop_edge = pd.DataFrame(person_workshop_edge_data, columns =['person_id',\n",
    "                                                                                   'workshop_id'])\n",
    "\n"
   ]
  },
  {
   "cell_type": "code",
   "execution_count": 9,
   "id": "84aad135-8939-4b2c-8fa1-94c2475c4df3",
   "metadata": {
    "execution": {
     "iopub.execute_input": "2025-06-15T12:45:28.591746Z",
     "iopub.status.busy": "2025-06-15T12:45:28.590914Z",
     "iopub.status.idle": "2025-06-15T12:45:28.711280Z",
     "shell.execute_reply": "2025-06-15T12:45:28.708708Z",
     "shell.execute_reply.started": "2025-06-15T12:45:28.591681Z"
    }
   },
   "outputs": [
    {
     "name": "stdout",
     "output_type": "stream",
     "text": [
      "        id                                               name attribute  \\\n",
      "0    20011  The Structure of Thought in Western and Easter...  workshop   \n",
      "1    20012                        Fragmentation and Wholeness  workshop   \n",
      "2    20013                    The Re-Enchantment of the World  workshop   \n",
      "3    20014                      Politics, Economy and Science  workshop   \n",
      "4    20015  Fragmentation and Wholeness in Science and Soc...  workshop   \n",
      "..     ...                                                ...       ...   \n",
      "119  15121                                             Europa  category   \n",
      "120  15122                                Gesellschaftskritik  category   \n",
      "121  15123                                    Quantummechanik  category   \n",
      "122  15124                             Künstliche Intelligenz  category   \n",
      "123  15125                                    Parapsychologie  category   \n",
      "\n",
      "     event_id  meta_category  \n",
      "0           1              0  \n",
      "1           1              0  \n",
      "2           1              0  \n",
      "3           1              0  \n",
      "4           1              0  \n",
      "..        ...            ...  \n",
      "119         0              1  \n",
      "120         0              1  \n",
      "121         0              2  \n",
      "122         0              2  \n",
      "123         0              6  \n",
      "\n",
      "[379 rows x 5 columns]\n"
     ]
    }
   ],
   "source": [
    "panda_data_categories['category_id']=panda_data_categories['category_id']+15000\n",
    "panda_data_workshop['workshop_id']=panda_data_workshop['workshop_id']+20000\n",
    "\n",
    "panda_data_workshop=panda_data_workshop.rename(columns={'workshop_id':'id','workshop_name':'name'})\n",
    "panda_data_categories=panda_data_categories.rename(columns={'category_id':'id','category_name':'name'})\n",
    "panda_data_categories['event_id']=0\n",
    "panda_data_workshop['attribute']='workshop'\n",
    "panda_data_categories['attribute']='category'\n",
    "panda_data_workshop['meta_category']=0\n",
    "\n",
    "panda_nodes_id=pd.concat([panda_data_workshop['id'],panda_data_categories['id']])\n",
    "panda_nodes_name=pd.concat([panda_data_workshop[['name']],panda_data_categories[['name']]])\n",
    "panda_nodes_attribute=pd.concat([panda_data_workshop['attribute'],panda_data_categories['attribute']])\n",
    "panda_nodes_event=pd.concat([panda_data_workshop['event_id'],panda_data_categories['event_id']])\n",
    "panda_nodes_metacategory=pd.concat([panda_data_workshop['meta_category'],panda_data_categories['meta_category']])\n",
    "\n",
    "panda_nodes=pd.concat([panda_nodes_id,panda_nodes_name,panda_nodes_attribute,panda_nodes_event, panda_nodes_metacategory],axis=1)\n",
    "print(panda_nodes)\n",
    "panda_edges=pd.concat([panda_data_edges['workshop_id']+20000,panda_data_edges['category_id']+15000,panda_data_edges['event_id']],axis=1)\n",
    "panda_edges=panda_edges.rename(columns={'workshop_id':'source','category_id':'target'})\n",
    "#panda_edges.describe()\n",
    "panda_data_person_workshop_edge['workshop_id']=panda_data_person_workshop_edge['workshop_id']+20000\n",
    "panda_data_person_workshop_edge=panda_data_person_workshop_edge.rename(columns={'workshop_id': 'target',\n",
    "                                                                               'person_id':'source'})\n",
    "panda_data_person_workshop_edge['attribute']='person_workshop'\n",
    "panda_nodes['[z]']=1\n",
    "panda_nodes.to_csv('nodes_categories.csv',index=False) \n",
    "panda_edges.to_csv('edges_categories.csv',index=False) \n",
    "panda_data_person_workshop_edge.to_csv('workshop_person_edges.csv',index=False)"
   ]
  },
  {
   "cell_type": "code",
   "execution_count": null,
   "id": "13f9df22-466a-4054-b796-cf62f40a5bb7",
   "metadata": {},
   "outputs": [],
   "source": []
  },
  {
   "cell_type": "code",
   "execution_count": null,
   "id": "18a5f7e8-d024-44a0-a777-b59ddb7ea135",
   "metadata": {},
   "outputs": [],
   "source": []
  }
 ],
 "metadata": {
  "kernelspec": {
   "display_name": "Python3",
   "language": "python",
   "name": "python3"
  },
  "language_info": {
   "codemirror_mode": {
    "name": "ipython",
    "version": 3
   },
   "file_extension": ".py",
   "mimetype": "text/x-python",
   "name": "python",
   "nbconvert_exporter": "python",
   "pygments_lexer": "ipython3",
   "version": "3.12.5"
  }
 },
 "nbformat": 4,
 "nbformat_minor": 5
}
